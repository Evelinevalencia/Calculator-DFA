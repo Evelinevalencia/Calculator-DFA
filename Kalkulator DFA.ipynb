{
  "cells": [
    {
      "cell_type": "code",
      "execution_count": 2,
      "metadata": {
        "colab": {
          "base_uri": "https://localhost:8080/"
        },
        "id": "uq5hVYxaOSex",
        "outputId": "81ef4889-09c1-433c-9bdd-47975631961c"
      },
      "outputs": [
        {
          "output_type": "stream",
          "name": "stdout",
          "text": [
            "Selamat datang di Eve's kalkulator!\n",
            "Membuat diagram DFA untuk operasi aritmatika \n",
            " State 0: Menerima input angka pertama \n",
            " State 1: Menerima input operator (+, -, *, /) \n",
            " State 2: Menerima input angka kedua \n",
            " State 3: Menampilkan hasil operasi dan kembali ke State 0\n",
            "\n",
            "state 0 > 1\n",
            "state 1 > -\n",
            "state 2 > 2\n",
            "state 3 > =\n",
            "1 - 2 = -1\n",
            "Diterima\n",
            "state 0 > 0\n",
            "state 1 > 0\n",
            "Ditolak! Input tidak valid! Silakan masukkan input yang valid.\n",
            "Terima kasih telah menggunakan Eve's kalkulator!\n"
          ]
        }
      ],
      "source": [
        "print(\"Selamat datang di Eve's kalkulator!\")\n",
        "print(\"Membuat diagram DFA untuk operasi aritmatika \\n State 0: Menerima input angka pertama \\n State 1: Menerima input operator (+, -, *, /) \\n State 2: Menerima input angka kedua \\n State 3: Menampilkan hasil operasi dan kembali ke State 0\\n\")\n",
        "\n",
        "dfa = {\n",
        "    0: {'digit': 1},\n",
        "    1: {'operator': 2},\n",
        "    2: {'digit': 3},\n",
        "    3: {'hasil': 0}\n",
        "}\n",
        "\n",
        "def kalkulator_dfa():\n",
        "    state = 0\n",
        "    angka1 = \"\"\n",
        "    operator = \"\"\n",
        "    angka2 = \"\"\n",
        "\n",
        "    while True:\n",
        "\n",
        "        inputan = input(f\"state {state} > \")\n",
        "\n",
        "\n",
        "        if inputan == \"q\":\n",
        "            print(\"Terima kasih telah menggunakan Eve's kalkulator!\")\n",
        "            break\n",
        "\n",
        "        if inputan.isdigit():\n",
        "            if state == 0:\n",
        "                angka1 += inputan\n",
        "            elif state == 2:\n",
        "                angka2 += inputan\n",
        "            else:\n",
        "                print(\"Ditolak! Input tidak valid! Silakan masukkan input yang valid.\")\n",
        "                print(\"Terima kasih telah menggunakan Eve's kalkulator!\")\n",
        "                break\n",
        "        elif inputan in [\"+\", \"-\", \"*\", \"/\"]:\n",
        "            if state == 1:\n",
        "                operator = inputan\n",
        "            else:\n",
        "                print(\"Ditolak! Input tidak valid! Silakan masukkan input yang valid.\")\n",
        "                print(\"Terima kasih telah menggunakan Eve's kalkulator!\")\n",
        "                break\n",
        "        elif inputan == \"=\":\n",
        "            if state == 3:\n",
        "                if operator == \"+\":\n",
        "                    hasil = int(angka1) + int(angka2)\n",
        "                elif operator == \"-\":\n",
        "                    hasil = int(angka1) - int(angka2)\n",
        "                elif operator == \"*\":\n",
        "                    hasil = int(angka1) * int(angka2)\n",
        "                elif operator == \"/\":\n",
        "                    hasil = int(angka1) / int(angka2)\n",
        "\n",
        "                print(f\"{angka1} {operator} {angka2} = {hasil}\")\n",
        "                print(\"Diterima\")\n",
        "                angka1 = \"\"\n",
        "                operator = \"\"\n",
        "                angka2 = \"\"\n",
        "                state = 3\n",
        "            else :\n",
        "                print(\"Ditolak! Input tidak valid! Silakan masukkan input yang valid.\")\n",
        "                print(\"Terima kasih telah menggunakan Eve's kalkulator!\")\n",
        "                break\n",
        "        else:\n",
        "            print(\"Ditolak! Input tidak valid! Silakan masukkan input yang valid.\")\n",
        "            print(\"Terima kasih telah menggunakan Eve's kalkulator!\")\n",
        "            break\n",
        "\n",
        "        if inputan.isdigit():\n",
        "            key = 'digit'\n",
        "        elif inputan in [\"+\", \"-\", \"*\", \"/\"]:\n",
        "            key = 'operator'\n",
        "        elif inputan == \"=\":\n",
        "            key = 'hasil'\n",
        "        else:\n",
        "            continue\n",
        "\n",
        "        state = dfa[state][key]\n",
        "\n",
        "kalkulator_dfa()"
      ]
    }
  ],
  "metadata": {
    "colab": {
      "provenance": []
    },
    "kernelspec": {
      "display_name": "Python 3",
      "name": "python3"
    },
    "language_info": {
      "name": "python"
    }
  },
  "nbformat": 4,
  "nbformat_minor": 0
}